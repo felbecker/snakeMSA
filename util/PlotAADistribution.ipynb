{
 "cells": [
  {
   "cell_type": "code",
   "execution_count": 22,
   "id": "220a6b56-3c46-49dd-90d4-ac6d566790a9",
   "metadata": {},
   "outputs": [],
   "source": [
    "import logomaker\n",
    "import numpy as np\n",
    "import tensorflow as tf\n",
    "import pandas as pd\n",
    "import matplotlib.pyplot as plt\n",
    "from learnMSA.msa_hmm.Initializers import background_distribution"
   ]
  },
  {
   "cell_type": "code",
   "execution_count": 33,
   "id": "2de4f404-a65a-4cc2-b77a-cf21e341eaa9",
   "metadata": {},
   "outputs": [
    {
     "name": "stderr",
     "output_type": "stream",
     "text": [
      "<ipython-input-33-e4635a1c7933>:4: DeprecationWarning: `np.float` is a deprecated alias for the builtin `float`. To silence this warning, use `float` by itself. Doing this will not modify any behavior and is safe. If you specifically wanted the numpy scalar type, use `np.float64` here.\n",
      "Deprecated in NumPy 1.20; for more details and guidance: https://numpy.org/devdocs/release/1.20.0-notes.html#deprecations\n",
      "  dist = np.array(dist, dtype=np.float)\n"
     ]
    },
    {
     "data": {
      "image/png": "[encoded data removed]",
      "text/plain": [
       "<Figure size 144x432 with 1 Axes>"
      ]
     },
     "metadata": {
      "needs_background": "light"
     },
     "output_type": "display_data"
    }
   ],
   "source": [
    "msa_column = \"AIAAVAAACA\"\n",
    "logomaker_alphabet = [\"A\", \"C\", \"D\", \"E\", \"F\", \"G\", \"H\", \"I\", \"K\", \"L\", \"M\", \"N\", \"P\", \"Q\", \"R\", \"S\", \"T\", \"V\", \"W\", \"Y\"]\n",
    "dist = [msa_column.count(aa) for aa in logomaker_alphabet]\n",
    "dist = np.array(dist, dtype=np.float)\n",
    "dist /= len(msa_column)\n",
    "\n",
    "background = background_distribution[:20]\n",
    "\n",
    "information_content = tf.keras.losses.KLDivergence(reduction=tf.keras.losses.Reduction.NONE)(dist, background)\n",
    "\n",
    "information_content_df = pd.DataFrame((information_content * dist).numpy()[np.newaxis], \n",
    "                                      columns=logomaker_alphabet)\n",
    "\n",
    "fig, ax = plt.subplots()\n",
    "ax.figure.set_size_inches(2, 6)\n",
    "\n",
    "# create Logo object\n",
    "logo = logomaker.Logo(information_content_df,\n",
    "                   color_scheme='skylign_protein',\n",
    "                   vpad=.1,\n",
    "                   width=.8,\n",
    "                   ax=ax)\n",
    "\n",
    "# style using Axes methods\n",
    "logo.ax.set_ylabel('information content')\n",
    "logo.ax.set_xlim([-1, len(information_content_df)])\n",
    "\n",
    "plt.savefig(\"../plots/aadist.pdf\", format=\"pdf\", bbox_inches=\"tight\")"
   ]
  },
  {
   "cell_type": "code",
   "execution_count": null,
   "id": "730d1ee8-69c4-4407-a041-29d6b812d49e",
   "metadata": {},
   "outputs": [],
   "source": []
  }
 ],
 "metadata": {
  "kernelspec": {
   "display_name": "Python 3 (ipykernel)",
   "language": "python",
   "name": "python3"
  },
  "language_info": {
   "codemirror_mode": {
    "name": "ipython",
    "version": 3
   },
   "file_extension": ".py",
   "mimetype": "text/x-python",
   "name": "python",
   "nbconvert_exporter": "python",
   "pygments_lexer": "ipython3",
   "version": "3.9.2"
  }
 },
 "nbformat": 4,
 "nbformat_minor": 5
}
